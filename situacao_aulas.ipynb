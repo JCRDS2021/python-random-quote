{
  "nbformat": 4,
  "nbformat_minor": 0,
  "metadata": {
    "colab": {
      "name": "situacao_aulas.ipynb",
      "provenance": [],
      "mount_file_id": "1eMknLv-aE-mo85Hcmh9PilEE8K8BGugb",
      "authorship_tag": "ABX9TyMVnuLsYLFcbP5AsT2RLhd0",
      "include_colab_link": true
    },
    "kernelspec": {
      "name": "python3",
      "display_name": "Python 3"
    },
    "language_info": {
      "name": "python"
    }
  },
  "cells": [
    {
      "cell_type": "markdown",
      "metadata": {
        "id": "view-in-github",
        "colab_type": "text"
      },
      "source": [
        "<a href=\"https://colab.research.google.com/github/JCRDS2021/python-random-quote/blob/master/situacao_aulas.ipynb\" target=\"_parent\"><img src=\"https://colab.research.google.com/assets/colab-badge.svg\" alt=\"Open In Colab\"/></a>"
      ]
    },
    {
      "cell_type": "code",
      "execution_count": 1,
      "metadata": {
        "id": "9KrJM3Bh6TZm"
      },
      "outputs": [],
      "source": [
        "import pandas as pd\n",
        "import numpy as np"
      ]
    },
    {
      "cell_type": "code",
      "source": [
        "# IMPORTANDO OS ARQUIVOS QUE ESTÃO NO DRIVE\n",
        "ativos = pd.read_excel('/content/drive/MyDrive/Colab Notebooks/Situação- Aulas/ativos.xlsx')\n",
        "cancelados = pd.read_excel('/content/drive/MyDrive/Colab Notebooks/Situação- Aulas/cancelados.xlsx')\n",
        "\n"
      ],
      "metadata": {
        "id": "jUP3TupB6bS4"
      },
      "execution_count": 13,
      "outputs": []
    },
    {
      "cell_type": "code",
      "source": [
        "# EXCLUINDO AS COLUNAS CRIADAS AUMATICAMENTE PELO PANDAS NO DATAFRAME \"ATIVOS\"\n",
        "ativos = ativos.drop(['Unnamed: 0', 'Unnamed: 8'], axis='columns')\n",
        "# EXCLUINDO AS LINHAS COM VALORES NaN, PEGANDO COMO REFERÊNCIA A COLUNA\n",
        "# 'ALUNO' DO DATAFRAME CANCELADOS\n",
        "cancelados = cancelados[cancelados['Aluno'].notna()]\n",
        "# RENOMEANDO A COLUNA 'ALUNO' DO DATAFRAME 'CANCELADOS' PARA FAZER A COMPARAÇÃO\n",
        "# E VERIFICAR SE HÁ ELEMENTOS IGUAIS NO OUTRO DATAFRAME ('ATIVOS')\n",
        "cancelados = cancelados.rename(columns={'Aluno': 'NOME DO ESTUDANTE'})\n"
      ],
      "metadata": {
        "id": "HivlRzYh6jxX"
      },
      "execution_count": 14,
      "outputs": []
    },
    {
      "cell_type": "code",
      "source": [
        "ativos['NOME DO ESTUDANTE'] = ativos['NOME DO ESTUDANTE'].str.upper()\n",
        "cancelados['NOME DO ESTUDANTE'] = cancelados['NOME DO ESTUDANTE'].str.upper()\n",
        "\n",
        "\n"
      ],
      "metadata": {
        "id": "7vVq688Y9_GP"
      },
      "execution_count": 18,
      "outputs": []
    },
    {
      "cell_type": "code",
      "source": [
        "alunos_cancelados = pd.merge(ativos, cancelados, how = 'inner', on = 'NOME DO ESTUDANTE')"
      ],
      "metadata": {
        "id": "WLBHC8iokEtm"
      },
      "execution_count": 20,
      "outputs": []
    },
    {
      "cell_type": "code",
      "source": [
        "alunos_cancelados.to_excel('alunos_cancelados.xlsx')"
      ],
      "metadata": {
        "id": "om738u3UmUXi"
      },
      "execution_count": 25,
      "outputs": []
    }
  ]
}